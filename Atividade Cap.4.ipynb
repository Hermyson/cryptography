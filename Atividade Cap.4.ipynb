{
 "cells": [
  {
   "cell_type": "markdown",
   "metadata": {
    "collapsed": false
   },
   "source": [
    "### 1. Defina resumidamente, um grupo, um anel, um corpo.\n",
    "\n",
    "Grupo:  É um conjunto de elementos associado a uma operação que satisfaz quatro condições: fechamento, associatividade, existência de um elemento neutro e existência de um inverso para cada elemento;\n",
    "\n",
    "Anel: É um conjunto que é equipado com duas operações, adição e multiplicação, que generalizam a aritmética dos números inteiros;\n",
    "\n",
    "Corpo: É um anel em que cada elemento não nulo tem um inverso multiplicativo. Em outras palavras, é um sistema algébrico que inclui a adição, subtração, multiplicação e divisão.\n",
    "\n"
   ]
  },
  {
   "cell_type": "markdown",
   "metadata": {
    "collapsed": false
   },
   "source": [
    "### 2. O que significa dizer que b é um divisor de a?\n",
    "\n",
    "Dizer que b é um divisor de a  significa que pode ser dividido por b sem deixar resto. Em termos matemáticos, isso significa que existe um número inteiro k tal que a = kb.\n",
    "\n"
   ]
  },
  {
   "cell_type": "markdown",
   "metadata": {
    "collapsed": false
   },
   "source": [
    "### 3. Para cada uma das seguintes equações, encontre um inteiro x que satisfaça:\n",
    "\n",
    "\\(a\\) 5x ≡ 4 \\(mod 3\\)\n",
    "\n",
    "\\(b\\) 7x ≡ 6 \\(mod 5\\)\n",
    "\n",
    "\\(c\\) 9x ≡ 8 \\(mod 7\\)\n",
    "\n"
   ]
  },
  {
   "cell_type": "code",
   "execution_count": 69,
   "metadata": {
    "collapsed": false
   },
   "outputs": [
    {
     "data": {
      "text/plain": [
       "2"
      ]
     },
     "execution_count": 69,
     "metadata": {
     },
     "output_type": "execute_result"
    }
   ],
   "source": [
    "# Encontrar o inverso multiplicativo de 5 no módulo 3\n",
    "gcd, s, t = xgcd(5, 3)\n",
    "inv_mult = s % 3\n",
    "# Multiplicar ambos os lados da equação pelo inverso multiplicativo\n",
    "x = (4 * inv_mult) % 3\n",
    "print(x)"
   ]
  },
  {
   "cell_type": "code",
   "execution_count": 70,
   "metadata": {
    "collapsed": false
   },
   "outputs": [
    {
     "name": "stdout",
     "output_type": "stream",
     "text": [
      "3\n"
     ]
    }
   ],
   "source": [
    "# Encontrar o inverso multiplicativo de 7 no módulo 5\n",
    "gcd, s, t = xgcd(7, 5)\n",
    "inv_mult = s % 5\n",
    "# Multiplicar ambos os lados da equação pelo inverso multiplicativo\n",
    "x = (6 * inv_mult) % 5\n",
    "print(x)"
   ]
  },
  {
   "cell_type": "code",
   "execution_count": 71,
   "metadata": {
    "collapsed": false
   },
   "outputs": [
    {
     "name": "stdout",
     "output_type": "stream",
     "text": [
      "4\n"
     ]
    }
   ],
   "source": [
    "# Encontrar o inverso multiplicativo de 9 no módulo 7\n",
    "gcd, s, t = xgcd(9, 7)\n",
    "inv_mult = s % 7\n",
    "# Multiplicar ambos os lados da equação pelo inverso multiplicativo\n",
    "x = (8 * inv_mult) % 7\n",
    "print(x)"
   ]
  },
  {
   "cell_type": "markdown",
   "metadata": {
    "collapsed": false
   },
   "source": [
    "### 4. Encontre o inverso multiplicativo de cada elemento diferente de zero em Z5.\n",
    "\n"
   ]
  },
  {
   "cell_type": "code",
   "execution_count": 77,
   "metadata": {
    "collapsed": false
   },
   "outputs": [
    {
     "name": "stdout",
     "output_type": "stream",
     "text": [
      "O inverso multiplicativo 1 em Z5 é 1\n",
      "O inverso multiplicativo 2 em Z5 é 3\n",
      "O inverso multiplicativo 3 em Z5 é 2\n",
      "O inverso multiplicativo 4 em Z5 é 4\n"
     ]
    }
   ],
   "source": [
    "Z5 = IntegerModRing(5)  # Cria o anel de inteiros módulo 5\n",
    "\n",
    "for i in range(1, 5):\n",
    "    inv = Z5(i).inverse()\n",
    "    print(f\"O inverso multiplicativo {i} em Z5 é {inv}\")\n"
   ]
  },
  {
   "cell_type": "markdown",
   "metadata": {
    "collapsed": false
   },
   "source": [
    "### 5. Determine os MDC:\n",
    "\n",
    "\\(a\\) mdc\\(24140, 16762\\):\n",
    "\n",
    "\\(b\\) mdc\\(4655, 12075\\).\n",
    "\n",
    "\\-\\-\\-\\-\\-\\-\\-\\-\\-\\-\\-\\-\\-\\-\\-\\-\\-\\-\\-\\-\\-\\-\\-\\-\\-\\-\\-\\-\\-\\-\\-\\-\\-\\-\\-\\-\\-\\-\\-\n",
    "\n",
    "\\(a\\) 24140 = 1 \\* 16762 \\+ 7378\n",
    "\n",
    "16762 = 2 \\* 7378 \\+ 2006\n",
    "\n",
    "7378 = 3 \\* 2006 \\+ 1360\n",
    "\n",
    "2006 = 1 \\* 1360 \\+ 640\n",
    "\n",
    "1360 = 2 \\* 640 \\+ 68\n",
    "\n",
    "640 =  3² \\* 68 \\+ 34\n",
    "\n",
    "68 = 2 \\* 34 \\+ 0\n",
    "\n",
    "34\n",
    "\n"
   ]
  },
  {
   "cell_type": "code",
   "execution_count": 2,
   "metadata": {
    "collapsed": false
   },
   "outputs": [
    {
     "data": {
      "text/plain": [
       "34"
      ]
     },
     "execution_count": 2,
     "metadata": {
     },
     "output_type": "execute_result"
    }
   ],
   "source": [
    "#mdc(24140,16762)\n",
    "gcd(24140,16762)"
   ]
  },
  {
   "cell_type": "code",
   "execution_count": 3,
   "metadata": {
    "collapsed": false
   },
   "outputs": [
    {
     "data": {
      "text/plain": [
       "35"
      ]
     },
     "execution_count": 3,
     "metadata": {
     },
     "output_type": "execute_result"
    }
   ],
   "source": [
    "#mdc(4655,12075)\n",
    "gcd(4655,12075)"
   ]
  },
  {
   "cell_type": "markdown",
   "metadata": {
    "collapsed": false
   },
   "source": [
    "### 6. Usando o algoritmo de Euclides estendido, encontre o inverso multiplicativo de:\n",
    "\n",
    "\\(a\\) 1234 mod 4321;\n",
    "\n",
    "\\(b\\) 24140 mod 40902;\n",
    "\n",
    "\\(c\\) 550 mod 1769.\n",
    "\n"
   ]
  },
  {
   "cell_type": "code",
   "execution_count": 5,
   "metadata": {
    "collapsed": false
   },
   "outputs": [
    {
     "name": "stdout",
     "output_type": "stream",
     "text": [
      "O inverso multiplicativo de 1234 módulo 4321 é 3239\n"
     ]
    }
   ],
   "source": [
    "a = 1234\n",
    "b = 4321\n",
    "gcd, x, y = xgcd(a, b)\n",
    "\n",
    "if gcd == 1:\n",
    "    # o inverso multiplicativo existe\n",
    "    inv = x % b\n",
    "    print(\"O inverso multiplicativo de\", a, \"módulo\", b, \"é\", inv)\n",
    "else:\n",
    "    # o inverso multiplicativo não existe\n",
    "    print(\"Não existe inverso multiplicativo de\", a, \"módulo\", b)"
   ]
  },
  {
   "cell_type": "code",
   "execution_count": 78,
   "metadata": {
    "collapsed": false
   },
   "outputs": [
    {
     "name": "stdout",
     "output_type": "stream",
     "text": [
      "Não existe inverso multiplicativo de 24140 módulo 40902\n"
     ]
    }
   ],
   "source": [
    "a = 24140\n",
    "b = 40902\n",
    "gcd, x, y = xgcd(a, b)\n",
    "\n",
    "if gcd == 1:\n",
    "    # o inverso multiplicativo existe\n",
    "    inv = x % b\n",
    "    print(\"O inverso multiplicativo de\", a, \"módulo\", b, \"é\", inv)\n",
    "else:\n",
    "    # o inverso multiplicativo não existe\n",
    "    print(\"Não existe inverso multiplicativo de\", a, \"módulo\", b)"
   ]
  },
  {
   "cell_type": "code",
   "execution_count": 79,
   "metadata": {
    "collapsed": false
   },
   "outputs": [
    {
     "name": "stdout",
     "output_type": "stream",
     "text": [
      "O inverso multiplicativo de 550 módulo 1769 é 550\n"
     ]
    }
   ],
   "source": [
    "a = 550\n",
    "b = 1769\n",
    "gcd, x, y = xgcd(a, b)\n",
    "\n",
    "if gcd == 1:\n",
    "    # o inverso multiplicativo existe\n",
    "    inv = x % b\n",
    "    print(\"O inverso multiplicativo de\", a, \"módulo\", b, \"é\", inv)\n",
    "else:\n",
    "    # o inverso multiplicativo não existe\n",
    "    print(\"Não existe inverso multiplicativo de\", a, \"módulo\", b)"
   ]
  },
  {
   "cell_type": "markdown",
   "metadata": {
    "collapsed": false
   },
   "source": [
    "### 7. Determine o inverso multiplicativo de x³ \\+ x \\+ 1 em GF\\(2⁴\\), com m\\(x\\) = x⁴ \\+ x \\+ 1.\n",
    "\n"
   ]
  },
  {
   "cell_type": "code",
   "execution_count": 13,
   "metadata": {
    "collapsed": false
   },
   "outputs": [
    {
     "name": "stdout",
     "output_type": "stream",
     "text": [
      "Inverso multiplicativo de f(x): x^2 + 1\n"
     ]
    }
   ],
   "source": [
    "R = GF(2**4, 'x')\n",
    "m = R('x^4 + x + 1')\n",
    "f = R('x^3 + x + 1')\n",
    "\n",
    "inverse = f.inverse_mod(m)\n",
    "print(\"Inverso multiplicativo de f(x):\", inverse)\n"
   ]
  },
  {
   "cell_type": "markdown",
   "metadata": {
    "collapsed": false
   },
   "source": [
    "### 8. Para a aritmética de polinômios com coeficientes em Z10, realize os seguintes cálculos:\n",
    "\n",
    "\\(a\\) \\(7x \\+ 2\\) − \\(x² \\+ 5\\)\n",
    "\n",
    "\\(b\\) \\(6x² \\+ x \\+ 3\\) × \\(5x² \\+ 2\\)\n",
    "\n"
   ]
  },
  {
   "cell_type": "code",
   "execution_count": 13,
   "metadata": {
    "collapsed": false
   },
   "outputs": [
    {
     "name": "stdout",
     "output_type": "stream",
     "text": [
      "-x^2 + 7*x - 3\n"
     ]
    }
   ],
   "source": [
    "#(a) (7x + 2) − (x² + 5)\n",
    "# Definir os polinômios\n",
    "R = PolynomialRing(ZZ, 'x')\n",
    "x = R.gen()\n",
    "polinomio1 = 7*x + 2\n",
    "polinomio2 = x**2 + 5\n",
    "\n",
    "# Realizar a subtração dos polinômios\n",
    "resultado = polinomio1 - polinomio2\n",
    "\n",
    "# Imprimir o resultado\n",
    "print(resultado)\n"
   ]
  },
  {
   "cell_type": "code",
   "execution_count": 8,
   "metadata": {
    "collapsed": false
   },
   "outputs": [
    {
     "name": "stdout",
     "output_type": "stream",
     "text": [
      "30*x^4 + 5*x^3 + 27*x^2 + 2*x + 6\n"
     ]
    }
   ],
   "source": [
    "#(b) (6x² + x + 3) × (5x² + 2)\n",
    "# Definir os polinômios\n",
    "R = PolynomialRing(ZZ, 'x')\n",
    "x = R.gen()\n",
    "polinomio1 = 6*x**2 + x + 3\n",
    "polinomio2 = 5*x**2 + 2\n",
    "\n",
    "# Realizar a multiplicação dos polinômios\n",
    "resultado = polinomio1 * polinomio2\n",
    "\n",
    "# Imprimir o resultado\n",
    "print(resultado)"
   ]
  },
  {
   "cell_type": "markdown",
   "metadata": {
    "collapsed": false
   },
   "source": [
    "### 9. Estruture uma calculadora simples de quatro funções em GF\\(2⁴\\). Você pode usar uma tabela com valores pré\\-calculados para os inversos multiplicativos.\n",
    "\n"
   ]
  },
  {
   "cell_type": "code",
   "execution_count": 1,
   "metadata": {
    "cocalc": {
     "outputs": {
      "0": {
       "name": "input",
       "opts": {
        "password": false,
        "prompt": "Enter the operation (+, *): "
       },
       "output_type": "stream",
       "value": "+"
      }
     }
    },
    "collapsed": false,
    "scrolled": true
   },
   "outputs": [
    {
     "name": "stdout",
     "output_type": "stream",
     "text": "Enter the operation (+, *):  +"
    },
    {
     "name": "stdout",
     "output_type": "stream",
     "text": [
      "Result: 0\n"
     ]
    }
   ],
   "source": [
    "# Defina o campo GF(2^4)\n",
    "F = GF(2^4)\n",
    "\n",
    "# Tabela com os valores pré-calculados dos inversos multiplicativos\n",
    "inv_table = [0, 1, 9, 13, 3, 11, 5, 15, 7, 14, 10, 4, 12, 2, 6, 8]\n",
    "\n",
    "# Define calculadora\n",
    "def add(a, b):\n",
    "    return a + b\n",
    "\n",
    "def multiply(a, b):\n",
    "    return a * b\n",
    "\n",
    "\n",
    "# Entrada\n",
    "a = F(7)\n",
    "b = F(9)\n",
    "op = input(\"Enter the operation (+, *): \")\n",
    "\n",
    "# Efetue o cálculo\n",
    "if op == \"+\":\n",
    "    result = add(a, b)\n",
    "elif op == \"*\":\n",
    "    result = multiply(a, b)\n",
    "else:\n",
    "    print(\"Invalid operation\")\n",
    "\n",
    "# Print o resultado\n",
    "print(\"Result:\", result)"
   ]
  },
  {
   "cell_type": "code",
   "execution_count": 0,
   "metadata": {
    "collapsed": false
   },
   "outputs": [
   ],
   "source": [
   ]
  },
  {
   "cell_type": "markdown",
   "metadata": {
    "collapsed": false
   },
   "source": [
    "# Fim do algoritmo\n",
    "\n"
   ]
  }
 ],
 "metadata": {
  "kernelspec": {
   "argv": [
    "sage-10.0",
    "--python",
    "-m",
    "sage.repl.ipython_kernel",
    "--matplotlib=inline",
    "-f",
    "{connection_file}"
   ],
   "display_name": "SageMath 10.0",
   "env": {
   },
   "language": "sagemath",
   "metadata": {
    "cocalc": {
     "description": "Open-source mathematical software system",
     "priority": 10,
     "url": "https://www.sagemath.org/"
    }
   },
   "name": "sage-10.0",
   "resource_dir": "/ext/jupyter/kernels/sage-10.0"
  },
  "language_info": {
   "codemirror_mode": {
    "name": "ipython",
    "version": 3
   },
   "file_extension": ".py",
   "mimetype": "text/x-python",
   "name": "python",
   "nbconvert_exporter": "python",
   "pygments_lexer": "ipython3",
   "version": "3.11.1"
  }
 },
 "nbformat": 4,
 "nbformat_minor": 4
}