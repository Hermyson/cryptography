{
 "cells": [
  {
   "cell_type": "markdown",
   "metadata": {
    "collapsed": false
   },
   "source": [
    "### 1. Por que mdc\\(n, n \\+ 1\\) = 1 é para dois inteiros consecutivos n e n \\+ 1?\n",
    "\n",
    "#### R: Isso ocorre porque dois inteiros consecutivos são sempre primos entre si. Para entender por que isso é verdade, podemos considerar que se n e n + 1 tivessem um fator comum maior que 1, esse fator também seria um divisor comum de n + 1 e n + (n + 1) = 2n + 1, que é um número ímpar. No entanto, um número ímpar não pode ter um fator comum com um número par, como 2n + 1.\n",
    "\n"
   ]
  },
  {
   "cell_type": "markdown",
   "metadata": {
    "collapsed": false
   },
   "source": [
    "### 2. Usando o teorema de Fermat, encontre 3²⁰¹ mod 11.\n",
    "\n",
    "#### R: O teorema de Fermat afirma que se \"p\" é um número primo e \"a\" é um número inteiro não divisível por \"p\", então a^(p-1) é congruente a 1 (mod p). No seu caso, temos p = 11 e a = 3. Como 11 é um número primo e 3 não é divisível por 11, podemos aplicar o teorema de Fermat.O próximo passo é encontrar o valor de (p-1), que é 11-1 = 10. Agora, podemos usar o teorema de Fermat para encontrar o valor de 3^(10) (mod 11). 3^(10) (mod 11) = 1. Agora, podemos usar essa informação para encontrar o valor de 3^(201) (mod 11). 3^(201) (mod 11) = (3^(10))^20 * 3 (mod 11) Como 3^(10) (mod 11) é igual a 1, podemos substituir esse valor na equação: (3^(10))^20 * 3 (mod 11) = 1^20 * 3 (mod 11) = 3 (mod 11) Portanto, 3²⁰¹ (mod 11) é igual a 3.\n"
   ]
  },
  {
   "cell_type": "code",
   "execution_count": 1,
   "metadata": {
    "collapsed": false
   },
   "outputs": [
    {
     "data": {
      "text/plain": [
       "3"
      ]
     },
     "execution_count": 1,
     "metadata": {
     },
     "output_type": "execute_result"
    }
   ],
   "source": [
    "power_mod(3, 201, 11)"
   ]
  },
  {
   "cell_type": "code",
   "execution_count": 2,
   "metadata": {
    "collapsed": false
   },
   "outputs": [
    {
     "name": "stdout",
     "output_type": "stream",
     "text": [
      "3\n"
     ]
    }
   ],
   "source": [
    "a = 3\n",
    "p = 11\n",
    "n = 201\n",
    "\n",
    "# Aplicar o teorema de Fermat\n",
    "if gcd(a, p) == 1:\n",
    "    result = a^(n % (p-1)) % p\n",
    "    print(result)\n",
    "else:\n",
    "    print(\"a e p não são primos entre si\")\n"
   ]
  },
  {
   "cell_type": "markdown",
   "metadata": {
    "collapsed": false
   },
   "source": [
    "### 3. Use o teorema de Fermat para encontrar um número a entre O e 72, com a congruente a 9794\n",
    "\n",
    "### módulo 73.\n",
    "\n",
    "#### R: O teorema de Fermat afirma que se \"p\" é um número primo e \"a\" é um número inteiro não divisível por \"p\", então a^(p-1) é congruente a 1 (mod p). Nesse caso, temos p = 73 e a = 9794. Como 73 é um número primo e 9794 não é divisível por 73, podemos aplicar o teorema de Fermat. O próximo passo é encontrar o valor de (p-1), que é 73-1 = 72. Agora, podemos usar o teorema de Fermat para encontrar o valor de 9794^(72) (mod 73). 9794^(72) (mod 73) = 1"
   ]
  },
  {
   "cell_type": "code",
   "execution_count": 5,
   "metadata": {
    "collapsed": false
   },
   "outputs": [
    {
     "data": {
      "text/plain": [
       "1"
      ]
     },
     "execution_count": 5,
     "metadata": {
     },
     "output_type": "execute_result"
    }
   ],
   "source": [
    "power_mod(9794, 72, 73)"
   ]
  },
  {
   "cell_type": "markdown",
   "metadata": {
    "collapsed": false
   },
   "source": [
    "### 4. Use o teorema de Euler para encontrar um número a entre 0 e 9, tal que a seja congruente a\n",
    "\n",
    "### 7¹⁰⁰⁰ módulo 10. \\(Observe que isso é o mesmo que o último dígito da expansão decimal de 7¹⁰⁰⁰.\\)\n",
    "\n",
    "#### R: Definir os parâmetros:\n",
    "\n",
    "####   a = 7 (base)\n",
    "\n",
    "####   n = 1000 (expoente)\n",
    "\n",
    "####  m = 10 (módulo)\n",
    "\n",
    "#### Aplicar o teorema de Euler:\n",
    "\n",
    "#### Se a e m são primos entre si, então a^φ(m) é congruente a 1 módulo m, onde φ(m) é a função totiente de Euler.\n",
    "\n",
    "#### Calcular o valor de a:\n",
    "\n",
    "#### Como 7 e 10 são primos entre si, podemos aplicar o teorema de Euler.\n",
    "\n",
    "#### Temos que a^φ(m) é congruente a 1 módulo m, onde φ(m) é igual a 4.\n",
    "\n",
    "#### Portanto, 7^4 é congruente a 1 módulo 10.\n",
    "\n",
    "#### Encontrar o valor de a:\n",
    "\n",
    "#### Podemos testar diferentes valores de a entre 0 e 9 para encontrar um valor que satisfaça a congruência a^1000 ≡ 1 (mod 10).\n",
    "\n",
    "#### Podemos fazer isso elevando cada valor de a à potência 1000 e verificando se o resultado é congruente a 1 módulo 10.\n",
    "\n"
   ]
  },
  {
   "cell_type": "code",
   "execution_count": 9,
   "metadata": {
    "collapsed": false
   },
   "outputs": [
    {
     "data": {
      "text/plain": [
       "1"
      ]
     },
     "execution_count": 9,
     "metadata": {
     },
     "output_type": "execute_result"
    }
   ],
   "source": [
    "power_mod(7, 4, 10)"
   ]
  },
  {
   "cell_type": "code",
   "execution_count": 10,
   "metadata": {
    "collapsed": false
   },
   "outputs": [
    {
     "data": {
      "text/plain": [
       "1"
      ]
     },
     "execution_count": 10,
     "metadata": {
     },
     "output_type": "execute_result"
    }
   ],
   "source": [
    "power_mod(7, euler_phi(10), 10)\n"
   ]
  },
  {
   "cell_type": "markdown",
   "metadata": {
    "collapsed": false
   },
   "source": [
    "### 5. Use o teorema de Euler para encontrar um número x entre 0 e 28, com x⁸⁵ congruente a 6 módulo 35 \\(Você não precisará usar qualquer pesquisa por força bruta\\).\n",
    "\n",
    "#### R: O teorema de Euler afirma que se \"a\" e \"n\" são inteiros positivos coprimos, então a^φ\\(n\\) é congruente a 1 \\(mod n\\), onde φ\\(n\\) é a função totiente de Euler, que retorna o número de inteiros positivos menores que n e coprimos com n. Nesse caso, temos n = 35 e a = x. Precisamos encontrar um número \"x\" que seja coprimo com 35.  A função totiente de Euler de 35 é φ\\(35\\) = 24, pois existem 24 inteiros positivos menores que 35 e coprimos com 35 \\(1, 2, 3, 4, 6, 8, 9, 11, 12, 13, 16, 17, 18, 19, 22, 23, 24, 26, 27, 29, 31, 32, 33, 34\\).\n",
    "\n"
   ]
  },
  {
   "cell_type": "code",
   "execution_count": 12,
   "metadata": {
    "collapsed": false
   },
   "outputs": [
    {
     "name": "stdout",
     "output_type": "stream",
     "text": [
      "6\n"
     ]
    }
   ],
   "source": [
    "a = 6\n",
    "n = 85\n",
    "m = 35\n",
    "\n",
    "# Calcular o valor de φ(m)\n",
    "phi_m = euler_phi(m)\n",
    "\n",
    "# Aplicar o teorema de Euler\n",
    "if gcd(a, m) == 1:\n",
    "    result = pow(a, n % phi_m, m)\n",
    "    for x in range(29):\n",
    "        if pow(x, 85, 35) == result:\n",
    "            break\n",
    "    print(x)\n",
    "else:\n",
    "    print(\"a e m não são primos entre si\")\n"
   ]
  },
  {
   "cell_type": "code",
   "execution_count": 19,
   "metadata": {
    "collapsed": false
   },
   "outputs": [
    {
     "name": "stdout",
     "output_type": "stream",
     "text": [
      "6\n"
     ]
    }
   ],
   "source": [
    "# Encontrar o valor de x^13 congruente a 6 mod 35\n",
    "x = power_mod(6, inverse_mod(13, 24), 35)\n",
    "print(x)\n"
   ]
  },
  {
   "cell_type": "markdown",
   "metadata": {
    "collapsed": false
   },
   "source": [
    "### 6. Observe, na Tabela 8.2, que φ\\(n\\) é par para n &gt; 2. Isso é verdadeiro para todo n &gt; 2. Dê um argumento conciso para explicar por que isso acontece.\n",
    "\n",
    "#### R: Explicar de forma concisa por que φ\\(n\\) é par para n &gt; 2, com base no teorema de Euler e na decomposição de n em fatores primos:\n",
    "\n",
    "#### O teorema de Euler estabelece que, para qualquer número inteiro positivo n, φ\\(n\\) é igual ao número de inteiros positivos menores que n que são primos entre si com n.\n",
    "\n",
    "#### Quando n é um número primo, todos os inteiros positivos menores que n são primos entre si com n, exceto o próprio n. Portanto, φ\\(n\\) = n \\- 1, que é um número ímpar.\n",
    "\n",
    "#### No entanto, quando n é um número composto, existem inteiros positivos menores que n que não são primos entre si com n. Isso ocorre porque n tem fatores primos em sua decomposição. Se n é composto, podemos escrever n como o produto de dois números primos p e q, onde p e q são maiores que 1. Nesse caso, φ\\(n\\) = φ\\(pq\\) = φ\\(p\\)φ\\(q\\) = \\(p\\-1\\)\\(q\\-1\\).\n",
    "\n",
    "#### Como p e q são primos, ambos são ímpares. Portanto, \\(p\\-1\\) e \\(q\\-1\\) são números pares. O produto de dois números pares é sempre um número par. Portanto, φ\\(n\\) = \\(p\\-1\\)\\(q\\-1\\) é um número par quando n é composto. Concluímos que, para qualquer número inteiro positivo n &gt; 2, φ\\(n\\) é sempre um número par.\n",
    "\n"
   ]
  },
  {
   "cell_type": "markdown",
   "metadata": {
    "collapsed": false
   },
   "source": [
    "### 7. Se n é composto e passa no teste de Miller\\-Rabin para a base a, então n é chamado de pseudo\\-primo forte à base a. Mostre que 2047 é um pseudo\\-primo à base 2.\n",
    "\n"
   ]
  },
  {
   "cell_type": "code",
   "execution_count": 1,
   "metadata": {
    "collapsed": false
   },
   "outputs": [
    {
     "name": "stdout",
     "output_type": "stream",
     "text": [
      "2047 é um pseudo-primo forte à base 2.\n"
     ]
    }
   ],
   "source": [
    "# Definindo a função de exponenciação modular\n",
    "def mod_exp(base, exp, mod):\n",
    "    result = 1\n",
    "    while exp > 0:\n",
    "        if exp % 2 == 1:\n",
    "            result = (result * base) % mod\n",
    "        base = (base * base) % mod\n",
    "        exp //= 2\n",
    "    return result\n",
    "\n",
    "# Função para verificar se n é pseudo-primo forte à base a\n",
    "def is_strong_pseudoprime(n, a):\n",
    "    if n % 2 == 0:\n",
    "        return False\n",
    "    \n",
    "    # Escrevendo n como (2^r) * d\n",
    "    r = 0\n",
    "    d = n - 1\n",
    "    while d % 2 == 0:\n",
    "        r += 1\n",
    "        d //= 2\n",
    "    \n",
    "    x = mod_exp(a, d, n)\n",
    "    if x == 1 or x == n - 1:\n",
    "        return True\n",
    "    \n",
    "    for _ in range(r - 1):\n",
    "        x = (x * x) % n\n",
    "        if x == n - 1:\n",
    "            return True\n",
    "    return False\n",
    "\n",
    "# Número a ser testado e base a\n",
    "n = 2047\n",
    "a = 2\n",
    "\n",
    "if is_strong_pseudoprime(n, a):\n",
    "    print(f\"{n} é um pseudo-primo forte à base {a}.\")\n",
    "else:\n",
    "    print(f\"{n} não é um pseudo-primo forte à base {a}.\")\n"
   ]
  },
  {
   "cell_type": "markdown",
   "metadata": {
    "collapsed": false
   },
   "source": [
    "### 8. O exemplo usado por Sun\\-Tsu para ilustrar o CRT foi\n",
    "\n",
    "### x = 2 \\(mod 3\\); x = 3 \\(mod 5\\); x = 2 \\(mod 7\\)\n",
    "\n",
    "### Solucione para x.\n",
    "\n"
   ]
  },
  {
   "cell_type": "code",
   "execution_count": 5,
   "metadata": {
    "collapsed": false
   },
   "outputs": [
    {
     "name": "stdout",
     "output_type": "stream",
     "text": [
      "(mpz(23), 105)\n"
     ]
    }
   ],
   "source": [
    "from sympy.ntheory.modular import solve_congruence\n",
    "\n",
    "# Definir as congruências\n",
    "congruences = [(2, 3), (3, 5), (2, 7)]\n",
    "\n",
    "\n",
    "solution = solve_congruence(*congruences)\n",
    "\n",
    "# Imprimir a solução\n",
    "print(solution)\n"
   ]
  },
  {
   "cell_type": "code",
   "execution_count": 0,
   "metadata": {
    "collapsed": false
   },
   "outputs": [
   ],
   "source": [
   ]
  }
 ],
 "metadata": {
  "kernelspec": {
   "argv": [
    "sage-10.0",
    "--python",
    "-m",
    "sage.repl.ipython_kernel",
    "--matplotlib=inline",
    "-f",
    "{connection_file}"
   ],
   "display_name": "SageMath 10.0",
   "env": {
   },
   "language": "sagemath",
   "metadata": {
    "cocalc": {
     "description": "Open-source mathematical software system",
     "priority": 10,
     "url": "https://www.sagemath.org/"
    }
   },
   "name": "sage-10.0",
   "resource_dir": "/ext/jupyter/kernels/sage-10.0"
  },
  "language_info": {
   "codemirror_mode": {
    "name": "ipython",
    "version": 3
   },
   "file_extension": ".py",
   "mimetype": "text/x-python",
   "name": "python",
   "nbconvert_exporter": "python",
   "pygments_lexer": "ipython3",
   "version": "3.11.1"
  }
 },
 "nbformat": 4,
 "nbformat_minor": 4
}