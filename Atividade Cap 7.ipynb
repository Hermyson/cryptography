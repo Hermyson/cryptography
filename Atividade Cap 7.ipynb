{
 "cells": [
  {
   "cell_type": "markdown",
   "metadata": {
    "collapsed": false
   },
   "source": [
    "### 1. Qual é a diferença entre aleatoriedades estatísticas e imprevisibilidade?\n",
    "\n",
    "R: A aleatoriedade estatística é um conceito matemático abstrato que se refere a um processo repetitivo cujo resultado segue uma distribuição de probabilidade, enquanto a imprevisibilidade é um conceito mais amplo que se refere à falta de capacidade de prever ou antecipar um resultado ou evento.\n",
    "\n"
   ]
  },
  {
   "cell_type": "markdown",
   "metadata": {
    "collapsed": false
   },
   "source": [
    "### 2. Liste considerações de projeto importantes para uma cifra de fluxo.\n",
    "\n",
    " . Velocidade: Cifras de fluxo são geralmente mais rápidas que cifras em bloco quando implementadas em hardware.\n",
    "\n",
    " . Complexidade: Cifras de fluxo possuem um projeto menos complexo em relação às cifras em bloco.\n",
    "\n",
    " . Utilização da chave: É importante considerar como a chave é utilizada na cifra de fluxo para garantir a segurança do algoritmo.\n",
    "\n",
    " . Resistência à criptoanálise: A cifra de fluxo deve ser resistente à criptoanálise para proteger o conteúdo cifrado.\n",
    "\n",
    " . Tamanho da chave: O tamanho da chave utilizada na cifra de fluxo pode afetar a segurança do algoritmo.\n",
    "\n",
    " . Orientação a byte: Algumas cifras de fluxo são orientadas a byte, o que significa que geram um fluxo de bytes combinado com o texto plano usando operações XOR.\n",
    "\n"
   ]
  },
  {
   "cell_type": "markdown",
   "metadata": {
    "collapsed": false
   },
   "source": [
    "### 3. Por que não é desejável reutilizar uma chave de cifra de fluxo?\n",
    "\n",
    "R: Não é desejável reutilizar uma chave de cifra de fluxo porque isso pode tornar a cifra vulnerável a ataques. As cifras de fluxo geram uma sequência de bits que é usada como chave, conhecida como keystream, a partir de uma chave inicial. Se a mesma chave for usada duas ou mais vezes, um atacante pode ser capaz de descobrir a keystream e, portanto, a mensagem cifrada. Isso é conhecido como ataque de reutilização da chave. Portanto, é importante usar chaves diferentes para cada mensagem cifrada para garantir a segurança da cifra de fluxo.\n",
    "\n"
   ]
  },
  {
   "cell_type": "markdown",
   "metadata": {
    "collapsed": false
   },
   "source": [
    "### 4. Que operações primitivas são usadas no RC4?\n",
    "\n",
    "R: Swap: Troca de posição de dois elementos em um vetor; S-Box: Geração de uma tabela de substituição a partir da chave secreta; Keystream: Geração de uma sequência de bits pseudoaleatórios a partir da S-Box; XOR: Operação lógica que combina o texto plano com a keystream para produzir o texto cifrado.\n",
    "\n"
   ]
  },
  {
   "cell_type": "markdown",
   "metadata": {
    "collapsed": false
   },
   "source": [
    "### 5. Se apanharmos um algoritmo de congruência linear com um componente aditivo de 0: X n+1 = (aX n ) mod m então, podemos mostrar que, se m é primo, e se determinado valor de a produz o período máximo de m − 1, então a^k também produzirá o período máximo, desde que k seja menor que me que m − 1 não seja divisível por k. Demonstre isso usando X 0 = 1 em = 31, e produzindo as sequências para ak = 3, 3^2 , 3^3 , 3^4 .\n",
    "\n",
    "R:  Definir os parâmetros:\n",
    "\t\tX0 = 1 (valor inicial)\n",
    "\t\tm = 31 (valor do módulo)\n",
    "\t\ta = 3 (valor do multiplicador)\n",
    "\n",
    "Calcular as sequências para diferentes valores de k:\n",
    "\n",
    "Para k = 1:\n",
    "\n",
    "X1 = \\(3 \\* 1\\) mod 31 = 3                                                   \n",
    "\n",
    "X2 = \\(3 \\* 3\\) mod 31 = 9\n",
    "\n",
    "X3 = \\(3 \\* 9\\) mod 31 = 27\n",
    "\n",
    "X4 = \\(3 \\* 27\\) mod 31 = 19\n",
    "\n",
    "X5 = \\(3 \\* 19\\) mod 31 = 26\n",
    "\n",
    "X6 = \\(3 \\* 26\\) mod 31 = 25\n",
    "\n",
    "X7 = \\(3 \\* 25\\) mod 31 = 22\n",
    "\n",
    "X8 = \\(3 \\* 22\\) mod 31 = 16\n",
    "\n",
    "X9 = \\(3 \\* 16\\) mod 31 = 17\n",
    "\n",
    "X10 = \\(3 \\* 17\\) mod 31 = 20\n",
    "\n",
    "X11 = \\(3 \\* 20\\) mod 31 = 10\n",
    "\n",
    "X12 = \\(3 \\* 10\\) mod 31 = 30\n",
    "\n",
    "X13 = \\(3 \\* 30\\) mod 31 = 28\n",
    "\n",
    "X14 = \\(3 \\* 28\\) mod 31 = 23\n",
    "\n",
    "X15 = \\(3 \\* 23\\) mod 31 = 8\n",
    "\n",
    "X16 = \\(3 \\* 8\\) mod 31 = 24\n",
    "\n",
    "X17 = \\(3 \\* 24\\) mod 31 = 5\n",
    "\n",
    "X18 = \\(3 \\* 5\\) mod 31 = 15\n",
    "\n",
    "X19 = \\(3 \\* 15\\) mod 31 = 14\n",
    "\n",
    "X20 = \\(3 \\* 14\\) mod 31 = 11\n",
    "\n",
    "X21 = \\(3 \\* 11\\) mod 31 = 2\n",
    "\n",
    "X22 = \\(3 \\* 2\\) mod 31 = 6\n",
    "\n",
    "X23 = \\(3 \\* 6\\) mod 31 = 18\n",
    "\n",
    "X24 = \\(3 \\* 18\\) mod 31 = 4\n",
    "\n",
    "X25 = \\(3 \\* 4\\) mod 31 = 12\n",
    "\n",
    "X26 = \\(3 \\* 12\\) mod 31 = 1\n",
    "\n",
    "Para k = 2:\n",
    "\n",
    "X1 = \\(9 \\* 1\\) mod 31 = 9\n",
    "\n",
    "X2 = \\(9 \\* 9\\) mod 31 = 23\n",
    "\n",
    "X3 = \\(9 \\* 23\\) mod 31 = 8\n",
    "\n",
    "X4 = \\(9 \\* 8\\) mod 31 = 24\n",
    "\n",
    "X5 = \\(9 \\* 24\\) mod 31 = 5\n",
    "\n",
    "X6 = \\(9 \\* 5\\) mod 31 = 15\n",
    "\n",
    "X7 = \\(9 \\* 15\\) mod 31 = 14\n",
    "\n",
    "X8 = \\(9 \\* 14\\) mod 31 = 11\n",
    "\n",
    "X9 = \\(9 \\* 11\\) mod 31 = 2\n",
    "\n",
    "X10 = \\(9 \\* 2\\) mod 31 = 6\n",
    "\n",
    "X11 = \\(9 \\* 6\\) mod 31 = 18\n",
    "\n",
    "X12 = \\(9 \\* 18\\) mod 31 = 4\n",
    "\n",
    "X13 = \\(9 \\* 4\\) mod 31 = 12\n",
    "\n",
    "X14 = \\(9 \\* 12\\) mod 31 = 1\n",
    "\n",
    "Para k = 3:\n",
    "\n",
    "X1 = \\(27 \\* 1\\) mod 31 = 27\n",
    "\n",
    "X2 = \\(27 \\* 27\\) mod 31 = 19\n",
    "\n",
    "X3 = \\(27 \\* 19\\) mod 31 = 26\n",
    "\n",
    "X4 = \\(27 \\* 26\\) mod 31 = 25\n",
    "\n",
    "X5 = \\(27 \\* 25\\) mod 31 = 22\n",
    "\n",
    "X6 = \\(27 \\* 22\\) mod 31 = 16\n",
    "\n",
    "X7 = \\(27 \\* 16\\) mod 31 = 17\n",
    "\n",
    "X8 = \\(27 \\* 17\\) mod 31 = 20\n",
    "\n",
    "X9 = \\(27 \\* 20\\) mod 31 = 10\n",
    "\n",
    "X10 = \\(27 \\* 10\\) mod 31 = 30\n",
    "\n",
    "X11 = \\(27 \\* 30\\) mod 31 = 28\n",
    "\n",
    "X12 = \\(27 \\* 28\\) mod 31 = 23\n",
    "\n",
    "X13 = \\(27 \\* 23\\) mod 31 = 8\n",
    "\n",
    "X14 = \\(27 \\* 8\\) mod 31 = 24\n",
    "\n",
    "X15 = \\(27 \\* 24\\) mod 31 = 5\n",
    "\n",
    "X16 = \\(27 \\* 5\\) mod 31 = 15\n",
    "\n",
    "X17 = \\(27 \\* 15\\) mod 31 = 14\n",
    "\n",
    "X18 = \\(27 \\* 14\\) mod 31 = 11\n",
    "\n",
    "X19 = \\(27 \\* 11\\) mod 31 = 2\n",
    "\n",
    "X20 = \\(27 \\* 2\\) mod 31 = 6\n",
    "\n",
    "X21 = \\(27 \\* 6\\) mod 31 = 18\n",
    "\n",
    "X22 = \\(27 \\* 18\\) mod 31 = 4\n",
    "\n",
    "X23 = \\(27 \\* 4\\) mod 31 = 12\n",
    "\n",
    "X24 = \\(27 \\* 12\\) mod 31 = 1\n",
    "\n",
    "Para k = 4:\n",
    "\n",
    "X1 = \\(19 \\* 1\\) mod 31 = 19\n",
    "\n",
    "X2 = \\(19 \\* 19\\) mod 31 = 26\n",
    "\n",
    "X3 = \\(19 \\* 26\\) mod 31 = 25\n",
    "\n",
    "X4 = \\(19 \\* 25\\) mod 31 = 22\n",
    "\n",
    "X5 = \\(19 \\* 22\\) mod 31 = 16\n",
    "\n",
    "X6 = \\(19 \\* 16\\) mod 31 = 17\n",
    "\n",
    "X7 = \\(19 \\* 17\\) mod 31 = 20\n",
    "\n",
    "X8 = \\(19 \\* 20\\) mod 31 = 10\n",
    "\n",
    "X9 = \\(19 \\* 10\\) mod 31 = 30\n",
    "\n",
    "X10 = \\(19 \\* 30\\) mod 31\n"
   ]
  },
  {
   "cell_type": "markdown",
   "metadata": {
    "collapsed": false
   },
   "source": [
    "### 6. \\(a\\). Qual é o período máximo que pode ser obtido do seguinte gerador? X n\\+1 = \\(aX n \\) mod 2^4\n",
    "\n",
    "R: O período máximo que pode ser obtido do gerador Xn\\+1 = \\(aXn\\) mod 2^4 é 8. Isso ocorre porque 2^4 = 16, o que significa que o período máximo é 2^\\(4\\-1\\) = 2^3 = 8. Como 8 é um divisor de 16, o período máximo é 8, que é o menor múltiplo de 8 que é menor ou igual a 16.\n",
    "\n",
    "#### (b) Qual deverá ser o valor de a?\n",
    "\n",
    "R: Um gerador congruente tem um período máximo igual a \"m\" se e somente se as seguintes condições forem satisfeitas:\n",
    "   \"m\" e o número \"a\" são primos entre si; \"a\" - 1 é divisível por todos os fatores primos de \"m\"; Se \"m\" é divisível por 4, então \"a\" - 1 também deve ser divisível por 4.\n",
    "\tNo caso específico do gerador Xn+1 = (aXn) mod 2⁴, onde 2⁴ é igual a 16, o período máximo é 16. Portanto, o valor de \"a\" deve satisfazer as condições acima para que o período máximo seja alcançado.\n",
    "\n",
    "####  (c) Que restrições são exigidas na semente?\n",
    "\n",
    "R: Não há restrições específicas na semente (valor inicial) \"X₀\". A semente pode ser qualquer número inteiro não negativo.\n",
    "\n"
   ]
  },
  {
   "cell_type": "markdown",
   "metadata": {
    "collapsed": false
   },
   "source": [
    "### 7. Que valor de chave RC4 deixará S inalterado durante a inicialização? Ou seja, após a permutação inicial de S, as entradas de S serão quais aos valores de 0 a 255 na ordem crescente.\n",
    "\n",
    "R: Para que o estado interno S do RC4 permaneça inalterado após a permutação inicial durante a inicialização, a chave utilizada deve ser composta por valores sequenciais de 0 a 255. Isso significa que a chave seria uma sequência de bytes consecutivos, em ordem crescente\n",
    "\n"
   ]
  },
  {
   "cell_type": "markdown",
   "metadata": {
    "collapsed": false
   },
   "source": [
    "### 8. O algoritmo Blum Blum Shub é baseado na teoria dos resíduos quadráticos e utiliza três números inteiros para realizar os cálculos: p, q e s.\n",
    "\n",
    "#### (a) Escolha dois números primos grandes p e q, onde p e q sejam congruentes a 3 mod 4 e não tenham fatores primos comuns. Por exemplo, você pode escolher p = 499 e q = 503.\n",
    "\n"
   ]
  },
  {
   "cell_type": "code",
   "execution_count": 1,
   "metadata": {
    "collapsed": false
   },
   "outputs": [
    {
     "name": "stdout",
     "output_type": "stream",
     "text": [
      "3 3\n",
      "1\n"
     ]
    }
   ],
   "source": [
    "# Verificar congruência com 4\n",
    "print(1999 % 4, 2003 % 4)\n",
    "\n",
    "# Calcular o maior divisor comum (gcd)\n",
    "print(gcd(1999, 2003))\n"
   ]
  },
  {
   "cell_type": "markdown",
   "metadata": {
    "collapsed": false
   },
   "source": [
    "#### \\(b\\) Calcule n = p ∗ q. Neste caso, n seria igual a 499 ∗ 503 = 250997.\n",
    "\n"
   ]
  },
  {
   "cell_type": "code",
   "execution_count": 2,
   "metadata": {
    "collapsed": false
   },
   "outputs": [
    {
     "name": "stdout",
     "output_type": "stream",
     "text": [
      "4003997\n"
     ]
    }
   ],
   "source": [
    "# Definir os valores de p e q\n",
    "p = 1999\n",
    "q = 2003\n",
    "\n",
    "# Calcular n = p * q\n",
    "n = p * q\n",
    "\n",
    "# Imprimir o valor de n\n",
    "print(n)\n"
   ]
  },
  {
   "cell_type": "markdown",
   "metadata": {
    "collapsed": false
   },
   "source": [
    "#### c. Escolha um número inteiro s entre 1 e n − 1 que seja co\\-primo com n. Por exemplo, você pode escolher s = 17.\n",
    "\n"
   ]
  },
  {
   "cell_type": "code",
   "execution_count": 10,
   "metadata": {
    "collapsed": false
   },
   "outputs": [
    {
     "data": {
      "text/plain": [
       "1"
      ]
     },
     "execution_count": 10,
     "metadata": {
     },
     "output_type": "execute_result"
    }
   ],
   "source": [
    "gcd(4003997,17)"
   ]
  },
  {
   "cell_type": "markdown",
   "metadata": {
    "collapsed": false
   },
   "source": [
    "#### d. Calcule o valor inicial x0 = \\(s²\\) mod n. Neste caso, x0 seria igual a \\(17\\) mod 250997 =289.\n",
    "\n"
   ]
  },
  {
   "cell_type": "code",
   "execution_count": 16,
   "metadata": {
    "collapsed": false
   },
   "outputs": [
    {
     "data": {
      "text/plain": [
       "289"
      ]
     },
     "execution_count": 16,
     "metadata": {
     },
     "output_type": "execute_result"
    }
   ],
   "source": [
    "n = 4003997\n",
    "s = 17\n",
    "x = (s^2) % n\n",
    "x"
   ]
  },
  {
   "cell_type": "markdown",
   "metadata": {
    "collapsed": false
   },
   "source": [
    "#### \\(e\\) Agora, vamos gerar uma sequência de números aleatórios usando o algoritmo Blum Blum Shub. Para gerar cada número da sequência, use a seguinte fórmula: xi = \\(x² i−1\\) mod n.\n",
    "\n"
   ]
  },
  {
   "cell_type": "code",
   "execution_count": 17,
   "metadata": {
    "collapsed": false
   },
   "outputs": [
    {
     "data": {
      "text/plain": [
       "83521"
      ]
     },
     "execution_count": 17,
     "metadata": {
     },
     "output_type": "execute_result"
    }
   ],
   "source": [
    "n = 4003997\n",
    "s = 289\n",
    "x1 = (s^2) % n\n",
    "x1"
   ]
  },
  {
   "cell_type": "markdown",
   "metadata": {
    "collapsed": false
   },
   "source": [
    "#### \\(f\\) Execute a fórmula várias vezes para gerar uma sequência de números aleatórios. Por\n",
    "\n",
    "#### exemplo, você pode executar a fórmula 10 vezes para obter 10 números aleatórios.\n",
    "\n",
    "#### Aqui está a sequência de números aleatórios gerados usando o algoritmo Blum Blum Shub com\n",
    "\n",
    "#### os valores do exemplo:\n",
    "\n",
    "####\n",
    "\n",
    "#### 289, 253306, 14107, 23546, 67740, 144593, 79829, 46219, 132936, 9863\n",
    "\n",
    "####\n",
    "\n",
    "#### Qual foi a sua sequência?\n",
    "\n"
   ]
  },
  {
   "cell_type": "code",
   "execution_count": 25,
   "metadata": {
    "collapsed": false
   },
   "outputs": [
    {
     "data": {
      "text/plain": [
       "[83521,\n",
       " 794667,\n",
       " 1250037,\n",
       " 640143,\n",
       " 1995478,\n",
       " 1475951,\n",
       " 730593,\n",
       " 1299573,\n",
       " 43732,\n",
       " 2581255]"
      ]
     },
     "execution_count": 25,
     "metadata": {
     },
     "output_type": "execute_result"
    }
   ],
   "source": [
    "# Definir os valores de p, q, s e n\n",
    "p = 1999\n",
    "q = 2003\n",
    "s = 17\n",
    "n = p * q\n",
    "\n",
    "# Calcular o valor inicial x0\n",
    "x0 = (s^2) % n\n",
    "\n",
    "# Função para gerar a sequência de números aleatórios\n",
    "def blum_blum_shub(x, n, num_iters):\n",
    "    numeros_aleatorios = []\n",
    "    for _ in range(num_iters):\n",
    "        x = (x^2) % n\n",
    "        numeros_aleatorios.append(x)\n",
    "    return numeros_aleatorios\n",
    "\n",
    "# Gerar a sequência de números aleatórios\n",
    "sequencia = blum_blum_shub(x0, n, 10)\n",
    "\n",
    "sequencia"
   ]
  },
  {
   "cell_type": "code",
   "execution_count": 0,
   "metadata": {
    "collapsed": false
   },
   "outputs": [
   ],
   "source": [
   ]
  }
 ],
 "metadata": {
  "kernelspec": {
   "argv": [
    "sage-10.0",
    "--python",
    "-m",
    "sage.repl.ipython_kernel",
    "--matplotlib=inline",
    "-f",
    "{connection_file}"
   ],
   "display_name": "SageMath 10.0",
   "env": {
   },
   "language": "sagemath",
   "metadata": {
    "cocalc": {
     "description": "Open-source mathematical software system",
     "priority": 10,
     "url": "https://www.sagemath.org/"
    }
   },
   "name": "sage-10.0",
   "resource_dir": "/ext/jupyter/kernels/sage-10.0"
  },
  "language_info": {
   "codemirror_mode": {
    "name": "ipython",
    "version": 3
   },
   "file_extension": ".py",
   "mimetype": "text/x-python",
   "name": "python",
   "nbconvert_exporter": "python",
   "pygments_lexer": "ipython3",
   "version": "3.11.1"
  }
 },
 "nbformat": 4,
 "nbformat_minor": 4
}