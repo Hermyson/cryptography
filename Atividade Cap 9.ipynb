{
 "cells": [
  {
   "cell_type": "markdown",
   "metadata": {
    "collapsed": false
   },
   "source": [
    "### 1. Quais são os principais elementos de um criptossistema de chave pública?\n",
    "\n",
    "#### R:  **Chave pública:** É uma chave que pode ser amplamente disseminada e é usada para criptografar mensagens. Qualquer pessoa pode usar a chave pública para criptografar uma mensagem destinada ao proprietário da chave privada;\n",
    "\n",
    "#### **Chave privada:** É uma chave conhecida apenas pelo proprietário e é usada para descriptografar mensagens criptografadas com a chave pública correspondente. A chave privada deve ser mantida em segredo para garantir a segurança do sistema;\n",
    "\n",
    "#### **Algoritmo criptográfico:** É o conjunto de regras e procedimentos matemáticos que são usados para criptografar e descriptografar mensagens. O algoritmo criptográfico utilizado no criptossistema de chave pública deve ser seguro e resistente a ataques;\n",
    "\n",
    "#### **Plaintext:** É a mensagem ou dados legíveis que são alimentados no algoritmo criptográfico para serem criptografados. O plaintext é transformado em ciphertext após a criptografia;\n",
    "\n",
    "#### **Ciphertext:** É a mensagem criptografada resultante do processo de criptografia. O ciphertext só pode ser descriptografado com a chave privada correspondente;\n",
    "\n",
    "#### **Geração de chaves:** É o processo de criação das chaves pública e privada. A geração de uma chave pública e privada deve ser computacionalmente econômica para ser prática;\n",
    "\n",
    "####\n",
    "\n"
   ]
  },
  {
   "cell_type": "markdown",
   "metadata": {
    "collapsed": false
   },
   "source": [
    "### 2. Quais são os papéis da chave pública e da privada?\n",
    "\n",
    "\n",
    "#### R: **Chave pública:**  É usada para criptografar mensagens. Ela pode ser distribuída livremente e é conhecida por todos os participantes do sistema. O remetente utiliza a chave pública do destinatário para criptografar a mensagem antes de enviá\\-la. No entanto, a chave pública não pode ser usada para descriptografar a mensagem criptografada.\n",
    "\n",
    "#### **Chave privada:**  É mantida em segredo pelo destinatário. Ela é usada para descriptografar as mensagens criptografadas com a chave pública correspondente. Somente o destinatário que possui a chave privada correspondente à chave pública usada para criptografar a mensagem pode descriptografá\\-la com sucesso.\n",
    "\n"
   ]
  },
  {
   "cell_type": "markdown",
   "metadata": {
    "collapsed": false
   },
   "source": [
    "### 3. Que requisitos os criptossistemas de chave pública precisam cumprir para serem um algoritmo\n",
    "\n",
    "### seguro?\n",
    "\n",
    "#### R: **Confidencialidade:** O algoritmo deve garantir que a mensagem criptografada não possa ser facilmente decifrada sem a chave privada correspondente. Isso significa que mesmo que um adversário tenha acesso à mensagem criptografada e à chave pública, ele não deve ser capaz de recuperar a mensagem original sem a chave privada.\n",
    "\n",
    "#### **Autenticidade:** O algoritmo deve permitir que o destinatário verifique a autenticidade da mensagem recebida. Isso é geralmente alcançado usando assinaturas digitais, onde o remetente usa sua chave privada para assinar a mensagem, e o destinatário pode verificar a assinatura usando a chave pública correspondente.\n",
    "\n",
    "#### **Integridade:** O algoritmo deve garantir que a mensagem não tenha sido alterada durante a transmissão. Isso é geralmente alcançado usando funções de hash criptográficas, que geram um valor único para cada mensagem. O destinatário pode verificar se a mensagem foi alterada comparando o valor do hash recebido com o valor calculado localmente.\n",
    "\n",
    "#### **Resistência a ataques:** O algoritmo deve ser resistente a diferentes tipos de ataques, como ataques de força bruta, ataques de texto claro escolhido e ataques de escolha de chave escolhida. Ele deve ser projetado de forma a tornar computacionalmente inviável para um adversário quebrar a criptografia sem a chave privada.\n",
    "\n",
    "#### **Gerenciamento de chaves seguro:** O algoritmo deve fornecer mecanismos seguros para a geração, distribuição, armazenamento e revogação de chaves públicas e privadas. Isso inclui a proteção das chaves privadas contra acesso não autorizado e a garantia de que as chaves públicas sejam autênticas e confiáveis.\n",
    "\n"
   ]
  },
  {
   "cell_type": "markdown",
   "metadata": {
    "collapsed": false
   },
   "source": [
    "### 4. Descreva, em termos gerais, um procedimento eficiente para se escolher um número primo.\n",
    "\n",
    "#### R: Escolher um número primo eficientemente envolve a utilização de algoritmos de teste de primalidade que podem verificar se um número é primo ou composto. Embora não exista um método determinístico eficiente conhecido para encontrar números primos arbitrariamente grandes, existem abordagens probabilísticas e heurísticas que são amplamente utilizadas.\n",
    "\n",
    "#### Uma abordagem comum é usar o teste de primalidade de Miller\\-Rabin, que é um teste probabilístico. Esse teste é baseado no Teorema de Miller\\-Rabin, que afirma que se n é um número composto ímpar, então, para uma base a, se a^\\(n\\-1\\) ≡ 1 \\(mod n\\) ou a^\\(\\(n\\-1\\)/2\\) ≡ \\-1 \\(mod n\\), então n é um pseudoprimo forte à base a. Realizando várias iterações do teste de Miller\\-Rabin com diferentes bases, podemos aumentar a confiança de que um número é primo.\n",
    "\n"
   ]
  },
  {
   "cell_type": "markdown",
   "metadata": {
    "collapsed": false
   },
   "source": [
    "### 5. Antes da descoberta de quaisquer esquemas de chave pública especificas, como RSA, uma prova de existência foi desenvolvida, cuja finalidade era demonstrar que a encriptação de chave pública é possível em teoria. Considere as funções f1\\(x1\\) = z1; f2\\(x2, y2\\) = z2; f3\\(x3, y3\\) = z3, onde todos os valores são inteiros com 1 ≤ xi, yi, zi ≤ N. A função f1, pode ser representada por um vetor M1 de tamanho N, em que a k\\-ésima entrada é o valor de f1\\(k\\). De modo semelhante, f2 e f3 podem ser representados pelas matrizes M2 e M3 de tamanho N × N. A intenção é indicar o processo de encriptação/decriptação por pesquisas de tabela para aquelas com valores muito grandes de N. Essas tabelas seriam impraticavelmente grandes, mas, a princípio, poderiam ser construídas. O esquema funciona da seguinte forma: construa M1 com uma permutação aleatória de todos os inteiros entre 1 e N; ou seja, cada inteiro aparece exatamente uma vez em M1. Construa M2, de modo que cada linha contenha uma permutação aleatória dos primeiros N inteiros. Finalmente, preencha M3 para satisfazer a seguinte condição:\n",
    "\n",
    "### f3\\(f2\\(f1\\(k\\), p\\), k\\) = p para todo k, p com 1 ≤ k, p ≤ N\n",
    "\n",
    "### Resumindo,\n",
    "\n",
    "### 1. M1 toma uma entrada k e produz uma saída x.\n",
    "\n",
    "### 2. M2 toma as entradas x e p, dando a saída z.\n",
    "\n",
    "### 3. M3 toma as entradas z e k e produz p.\n",
    "\n",
    "### As três tabelas, uma vez construídas, se tornam públicas.\n",
    "\n",
    "### a\\) Deverá ficar claro que é possível construir M3 para satisfazer a condição anterior. Como um\n",
    "\n",
    "### exemplo, preencha M3 para o caso simples a seguir:\n",
    "\n",
    "###\n",
    "\n",
    "### M1 = \\[5\n",
    "\n",
    "   ### 4\n",
    "\n",
    "   ### 3\n",
    "\n",
    "   ### 2\n",
    "\n",
    "   ### 1]\n",
    "\n",
    "###\n",
    "\n",
    "### M2 = \\[5 2 3 4 1\n",
    "\n",
    "### 4 2 5 1 3\n",
    "\n",
    "### 1 3 2 4 5\n",
    "\n",
    "### 3 1 4 2 5\n",
    "\n",
    "### 2 5 3 4 1\\]\n",
    "\n",
    "###\n",
    "\n",
    "### M3 = \\[a1 a2 a3 a4 a5\n",
    "\n",
    "### b1 b2 b3 b4 b5\n",
    "\n",
    "### c1 c2 c3 c4 c5\n",
    "\n",
    "### d1 d2 d3 d4 d5\n",
    "\n",
    "### e1 e2 e3 e4 e5\\]\n",
    "\n",
    "### Convenção: o i\\-ésimo elemento de M1 corresponde a k = i. A i\\-ésima linha de M2 diz respeito ax = i; a j\\-ésima coluna de M2 equivale a p = j. A i\\-ésima linha de M3 indica z = i; a j\\-ésima coluna de MB relaciona\\-se a k = j.\n",
    "\n",
    "### \\(a\\) Descreva o uso desse conjunto de tabelas para realizar a encriptação e decriptação entre\n",
    "\n",
    "### dois usuários.\n",
    "\n",
    "### \\(b\\) Demonstre que esse é um esquema seguro\n",
    "\n",
    "### R: \\(a\\)\n",
    "\n",
    "#### Encriptação:\n",
    "\n",
    "#### O remetente possui uma mensagem que deseja enviar para o destinatário.\n",
    "\n",
    "#### O remetente usa a tabela M1 para encontrar o valor correspondente à mensagem na coluna de entrada e obtém o valor x.\n",
    "\n",
    "#### O remetente também escolhe um valor p aleatoriamente.\n",
    "\n",
    "#### O remetente usa a tabela M2 para encontrar o valor correspondente a x na linha e p na coluna, obtendo o valor z.\n",
    "\n",
    "#### O remetente usa a tabela M3 para encontrar o valor correspondente a z na linha e x na coluna, obtendo o valor p.\n",
    "\n",
    "#### O remetente envia os valores x e p para o destinatário.\n",
    "\n",
    "#### Decriptação:\n",
    "\n",
    "#### O destinatário recebe os valores x e p do remetente.\n",
    "\n",
    "#### O destinatário usa a tabela M3 para encontrar o valor correspondente a x na linha e p na coluna, obtendo o valor k.\n",
    "\n",
    "#### O destinatário usa a tabela M2 para encontrar o valor correspondente a k na linha e x na coluna, obtendo o valor z.\n",
    "\n",
    "#### O destinatário usa a tabela M1 para encontrar o valor correspondente a z na coluna de saída, obtendo a mensagem original.\n",
    "\n",
    "#### \\(b\\) Para demonstrar que esse é um esquema seguro, é necessário mostrar que é computacionalmente difícil para um atacante obter a mensagem original sem conhecer as tabelas M1, M2 e M3.\n",
    "\n",
    "#### A tabela M1 é construída com uma permutação aleatória de todos os inteiros entre 1 e N, o que torna difícil para um atacante determinar a relação entre a entrada e a saída.\n",
    "\n",
    "#### A tabela M2 é construída com permutações aleatórias dos primeiros N inteiros, o que também dificulta a determinação da relação entre as entradas e saídas.\n",
    "\n",
    "#### A tabela M3 é preenchida para satisfazer a condição f3\\(f2\\(f1\\(k\\), p\\), k\\) = p, o que garante que a decriptação seja correta.\n",
    "\n",
    "#### Portanto, mesmo que as tabelas sejam públicas, é difícil para um atacante deduzir a mensagem original sem conhecer as tabelas e as relações entre elas. Isso torna o esquema seguro em termos de criptografia de chave pública\n",
    "\n"
   ]
  },
  {
   "cell_type": "markdown",
   "metadata": {
    "collapsed": false
   },
   "source": [
    "### 6. Realize a encriptação e decriptação usando o algoritmo RSA, como na Figura 9.5, para o\n",
    "\n",
    "### seguinte:\n",
    "\n",
    "### \\(a\\) p = 3; q = 11, e = 7; M = 5;\n",
    "\n",
    "### \\(b\\) p = 5; q = 11, e = 3; M = 9;\n",
    "\n",
    "### \\(c\\) p = 7; q = 11, e = 17; M = 8;\n",
    "\n",
    "### \\(d\\) p = 11; q = 13, e = 11; M = 7;\n",
    "\n",
    "### \\(e\\) p = 17; q = 31, e = 7; M = 2.\n",
    "\n",
    "### Dica: a decriptação não é tão difícil quanto você pensa; use alguma sutileza.\n",
    "\n"
   ]
  },
  {
   "cell_type": "code",
   "execution_count": 2,
   "metadata": {
    "collapsed": false
   },
   "outputs": [
   ],
   "source": [
    "# Definir os valores de p, q, e, e M para cada caso\n",
    "caso_a = {'p': 3, 'q': 11, 'e': 7, 'M': 5}\n",
    "caso_b = {'p': 5, 'q': 11, 'e': 3, 'M': 9}\n",
    "caso_c = {'p': 7, 'q': 11, 'e': 17, 'M': 8}\n",
    "caso_d = {'p': 11, 'q': 13, 'e': 11, 'M': 7}\n",
    "caso_e = {'p': 17, 'q': 31, 'e': 7, 'M': 2}\n",
    "\n",
    "\n",
    "# Função para encriptação\n",
    "def encriptar_RSA(p, q, e, M):\n",
    "    n = p * q\n",
    "    mensagem_encriptada = (M^e) % n\n",
    "    return mensagem_encriptada\n",
    "\n",
    "# Função para decriptação\n",
    "def decriptar_RSA(p, q, e, mensagem_encriptada):\n",
    "    n = p * q\n",
    "    phi_n = (p - 1) * (q - 1)\n",
    "    \n",
    "    # Calcula o inverso multiplicativo de e modulo phi_n\n",
    "    d = power_mod(e, -1, phi_n)\n",
    "    \n",
    "    mensagem_decriptada = (mensagem_encriptada^d) % n\n",
    "    return mensagem_decriptada\n"
   ]
  },
  {
   "cell_type": "code",
   "execution_count": 3,
   "metadata": {
    "collapsed": false
   },
   "outputs": [
    {
     "name": "stdout",
     "output_type": "stream",
     "text": [
      "Caso (a) - Mensagem encriptada: 14, Mensagem decriptada: 5\n",
      "Caso (b) - Mensagem encriptada: 14, Mensagem decriptada: 9\n",
      "Caso (c) - Mensagem encriptada: 57, Mensagem decriptada: 8\n",
      "Caso (d) - Mensagem encriptada: 106, Mensagem decriptada: 7\n",
      "Caso (e) - Mensagem encriptada: 128, Mensagem decriptada: 2\n"
     ]
    }
   ],
   "source": [
    "# Caso (a)\n",
    "mensagem_encriptada_a = encriptar_RSA(caso_a['p'], caso_a['q'], caso_a['e'], caso_a['M'])\n",
    "mensagem_decriptada_a = decriptar_RSA(caso_a['p'], caso_a['q'], caso_a['e'], mensagem_encriptada_a)\n",
    "print(f\"Caso (a) - Mensagem encriptada: {mensagem_encriptada_a}, Mensagem decriptada: {mensagem_decriptada_a}\")\n",
    "\n",
    "# Caso (b)\n",
    "mensagem_encriptada_b = encriptar_RSA(caso_b['p'], caso_b['q'], caso_b['e'], caso_b['M'])\n",
    "mensagem_decriptada_b = decriptar_RSA(caso_b['p'], caso_b['q'], caso_b['e'], mensagem_encriptada_b)\n",
    "print(f\"Caso (b) - Mensagem encriptada: {mensagem_encriptada_b}, Mensagem decriptada: {mensagem_decriptada_b}\")\n",
    "\n",
    "# Caso (c)\n",
    "mensagem_encriptada_c = encriptar_RSA(caso_c['p'], caso_c['q'], caso_c['e'], caso_c['M'])\n",
    "mensagem_decriptada_c = decriptar_RSA(caso_c['p'], caso_c['q'], caso_c['e'], mensagem_encriptada_c)\n",
    "print(f\"Caso (c) - Mensagem encriptada: {mensagem_encriptada_c}, Mensagem decriptada: {mensagem_decriptada_c}\")\n",
    "\n",
    "# Caso (d)\n",
    "mensagem_encriptada_d = encriptar_RSA(caso_d['p'], caso_d['q'], caso_d['e'], caso_d['M'])\n",
    "mensagem_decriptada_d = decriptar_RSA(caso_d['p'], caso_d['q'], caso_d['e'], mensagem_encriptada_d)\n",
    "print(f\"Caso (d) - Mensagem encriptada: {mensagem_encriptada_d}, Mensagem decriptada: {mensagem_decriptada_d}\")\n",
    "\n",
    "# Caso (e)\n",
    "mensagem_encriptada_e = encriptar_RSA(caso_e['p'], caso_e['q'], caso_e['e'], caso_e['M'])\n",
    "mensagem_decriptada_e = decriptar_RSA(caso_e['p'], caso_e['q'], caso_e['e'], mensagem_encriptada_e)\n",
    "print(f\"Caso (e) - Mensagem encriptada: {mensagem_encriptada_e}, Mensagem decriptada: {mensagem_decriptada_e}\")\n"
   ]
  },
  {
   "cell_type": "markdown",
   "metadata": {
    "collapsed": false
   },
   "source": [
    "### Manual\n",
    "\n",
    "Calcule n = p \\* q.\n",
    "\n",
    "Calcule a função totiente de Euler de n, φ\\(n\\) = \\(p\\-1\\) \\* \\(q\\-1\\).\n",
    "\n",
    "Escolha um número inteiro e tal que 1 &lt; e &lt; φ\\(n\\) e que seja coprimo com φ\\(n\\).\n",
    "\n",
    "Calcule o inverso multiplicativo d de e módulo φ\\(n\\), ou seja, d \\* e ≡ 1 \\(mod φ\\(n\\)\\).\n",
    "\n",
    "A chave pública é o par \\(n, e\\) e a chave privada é o par \\(n, d\\).\n",
    "\n",
    "Para encriptar uma mensagem M, calcule C = M^e mod n.\n",
    "\n",
    "Para decriptar uma mensagem C, calcule M = C^d mod n.\n",
    "\n",
    "\\(a\\) p = 3; q = 11, e = 7; M = 5;\n",
    "\n",
    "n = 33, φ\\(n\\) = 20, d = 3\n",
    "\n",
    "C = 5^7 mod 33 = 14\n",
    "\n",
    "M = 29^3 mod 33 = 5\n",
    "\n",
    "\\(b\\) p = 5; q = 11, e = 3; M = 9;\n",
    "\n",
    "n = 55, φ\\(n\\) = 40, d = 27\n",
    "\n",
    "C = 9^3 mod 55 = 14\n",
    "\n",
    "M = 14^27 mod 55 = 9\n",
    "\n"
   ]
  },
  {
   "cell_type": "markdown",
   "metadata": {
    "collapsed": false
   },
   "source": [
    "### 7. Em um sistema de chave pública usando RSA, você intercepta o texto cifrado C = 10 enviado a um usuário cuja chave pública é e = 5, n = 35. Qual é o texto claro M?\n",
    "\n"
   ]
  },
  {
   "cell_type": "code",
   "execution_count": 4,
   "metadata": {
    "collapsed": false
   },
   "outputs": [
    {
     "name": "stdout",
     "output_type": "stream",
     "text": [
      "Texto claro M: 5\n"
     ]
    }
   ],
   "source": [
    "e = 5\n",
    "n = 35\n",
    "C = 10\n",
    "\n",
    "# Cálculo do inverso multiplicativo de e módulo φ(n)\n",
    "p = 5\n",
    "q = 7\n",
    "phi = (p-1) * (q-1)\n",
    "d = power_mod(e, -1, phi)\n",
    "\n",
    "# Decriptação do texto cifrado C\n",
    "M = power_mod(C, d, n)\n",
    "print(\"Texto claro M:\", M)\n"
   ]
  },
  {
   "cell_type": "code",
   "execution_count": 0,
   "metadata": {
    "collapsed": false
   },
   "outputs": [
   ],
   "source": [
   ]
  }
 ],
 "metadata": {
  "kernelspec": {
   "argv": [
    "sage-10.0",
    "--python",
    "-m",
    "sage.repl.ipython_kernel",
    "--matplotlib=inline",
    "-f",
    "{connection_file}"
   ],
   "display_name": "SageMath 10.0",
   "env": {
   },
   "language": "sagemath",
   "metadata": {
    "cocalc": {
     "description": "Open-source mathematical software system",
     "priority": 10,
     "url": "https://www.sagemath.org/"
    }
   },
   "name": "sage-10.0",
   "resource_dir": "/ext/jupyter/kernels/sage-10.0"
  },
  "language_info": {
   "codemirror_mode": {
    "name": "ipython",
    "version": 3
   },
   "file_extension": ".py",
   "mimetype": "text/x-python",
   "name": "python",
   "nbconvert_exporter": "python",
   "pygments_lexer": "ipython3",
   "version": "3.11.1"
  }
 },
 "nbformat": 4,
 "nbformat_minor": 4
}