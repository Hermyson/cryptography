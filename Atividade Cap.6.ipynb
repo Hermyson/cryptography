{
 "cells": [
  {
   "cell_type": "markdown",
   "metadata": {
    "collapsed": false
   },
   "source": [
    "### 1. O que é encriptação tripla?\n",
    "\n",
    "R:A encriptação tripla, também conhecida como Triple DES, é um tipo de criptografía de dados que utiliza o algoritmo DES \\(Data Encryption Standard\\) três vezes em cada bloco de dados.\n",
    "\n"
   ]
  },
  {
   "cell_type": "markdown",
   "metadata": {
    "collapsed": false
   },
   "source": [
    "### 2. O que é ataque meet\\-in\\-the\\-middle?\n",
    "\n",
    "R: É um tipo de ataque criptográfico que visa quebrar a segurança de um sistema de criptografia que utiliza duas etapas de criptografia diferentes.\n",
    "\n",
    "Nesse tipo de ataque, o atacante realiza uma análise de força bruta em ambas as etapas de criptografia, criando uma tabela de correspondência entre as chaves e os textos cifrados resultantes. Em seguida, o atacante procura por correspondências entre as duas tabelas, encontrando uma chave que produza o mesmo texto cifrado em ambas as etapas.\n",
    "\n"
   ]
  },
  {
   "cell_type": "markdown",
   "metadata": {
    "collapsed": false
   },
   "source": [
    "### 3. Quantas chaves são usadas na encriptação tripla?\n",
    "\n",
    "R: Na encriptação tripla, também conhecida como Triple DES, são utilizadas três chaves. Cada chave é usada em uma etapa diferente do processo de criptografia. O dado é primeiro criptografado com a primeira chave, depois descriptografado com a segunda chave e, por fim, criptografado novamente com a terceira chave. Essas três chaves podem ser todas diferentes \\(chave tripla\\) ou duas delas podem ser as mesmas \\(chave dupla\\). O uso de três chaves aumenta significativamente a segurança em relação ao DES padrão, que utiliza apenas uma chave.\n",
    "\n"
   ]
  },
  {
   "cell_type": "markdown",
   "metadata": {
    "collapsed": false
   },
   "source": [
    "### 4. Por que a parte do meio do 3DES é decriptação, em vez de encriptação?\n",
    "\n",
    "R: O Triple DES foi desenvolvido como uma forma de melhorar a segurança do DES, que utiliza uma chave de 56 bits. Para isso, o Triple DES aplica o algoritmo DES três vezes em cada bloco de dados. No entanto, para garantir a compatibilidade com o DES original, a segunda etapa do Triple DES é uma operação de decriptação, em vez de encriptação.\n",
    "\n"
   ]
  },
  {
   "cell_type": "markdown",
   "metadata": {
    "collapsed": false
   },
   "source": [
    "### 5. Por que alguns modos de operação de cifra de bloco só utilizam a encriptação, enquanto outros empregam encriptação e decriptação?\n",
    "\n",
    "R: A escolha do modo de operação depende dos requisitos de segurança, desempenho e aplicação específicos. Alguns modos podem ser mais adequados para garantir a confidencialidade dos dados, enquanto outros podem ser mais eficientes em termos de desempenho ou adequados para aplicativos específicos, como a criptografia de streaming.\n",
    "\n"
   ]
  },
  {
   "cell_type": "markdown",
   "metadata": {
    "collapsed": false
   },
   "source": [
    "### 6. Você deseja construir um dispositivo de hardware para realizar encriptação de bloco no modo cipher block chaining \\(CBC\\) usando um algoritmo mais forte do que DES. 3DES é um bom candidato. A Figura 1 mostra duas possibilidades, ambas acompanhando a definição do CBC. Qual das duas você escolheria:\n",
    "\n",
    "#### \\(a\\) Por segurança?\n",
    "\n",
    "R: Nesse caso, a melhor opção seria escolher a primeira possibilidade da Figura 1, que utiliza 3DES com três chaves diferentes \\(chave tripla\\). O 3DES é considerado mais seguro do que o DES, pois utiliza três etapas de criptografia em vez de uma. Além disso, o uso de três chaves diferentes aumenta ainda mais a segurança do algoritmo. Embora o 3DES seja mais lento do que o DES devido às três etapas de criptografia, a segurança adicional compensa essa perda de desempenho.\n",
    "\n",
    "#### \\(b\\) Por desempenho?\n",
    "\n",
    "R: Se o desempenho for uma consideração mais importante do que a segurança, a segunda possibilidade da Figura 1 seria a melhor escolha. Nessa opção, utiliza\\-se 3DES com duas chaves iguais \\(chave dupla\\). Embora essa configuração seja menos segura do que a chave tripla, ela ainda oferece um nível razoável de segurança. Além disso, o uso de duas chaves em vez de três melhora o desempenho, pois reduz o tempo necessário para a criptografia e decriptação dos dados.\n",
    "\n",
    "A escolha entre segurança e desempenho depende das necessidades e prioridades específicas do sistema em questão. É importante avaliar cuidadosamente os requisitos de segurança e desempenho antes de tomar uma decisão.\n",
    "\n"
   ]
  },
  {
   "cell_type": "markdown",
   "metadata": {
    "collapsed": false
   },
   "source": [
    "<img src=\".Atividade Cap -6.ipynb.upload/paste-0.7798961432752629\"     style=\"object-fit:cover\"/>\n",
    "\n"
   ]
  },
  {
   "cell_type": "markdown",
   "metadata": {
    "collapsed": false
   },
   "source": [
    "### 7. Crie um software que possa encriptar e decriptar no modo cipher block chaining usando uma das seguintes cifras: módulo affine 256, módulo Hill 256, S\\-DES, DES.                                                                                                             Teste os dados para S\\-DES usando um vetor de inicialização binário de 1010 1010. Um texto claro binário de 0000 0001 0010 0011 encriptado com uma chave binária de 01111 11101 deverá dar um texto claro binário de 1111 0100 0000 1011. A decriptação deverá funcionar de modo correspondente.\n",
    "\n"
   ]
  },
  {
   "cell_type": "code",
   "execution_count": 1,
   "metadata": {
    "collapsed": false
   },
   "outputs": [
    {
     "name": "stdout",
     "output_type": "stream",
     "text": [
      "Texto cifrado: ò==jµ.Æ.µ\u0010ñZÓ\u000f\n",
      "Texto decifrado: AFFINE-ENCRYPT\n"
     ]
    }
   ],
   "source": [
    "# Função para encriptar usando a cifra módulo Affine 256\n",
    "def encrypt(plaintext, a, b):\n",
    "    ciphertext = \"\"\n",
    "    for char in plaintext:\n",
    "        char_value = ord(char)\n",
    "        if 0 <= char_value <= 255:\n",
    "            encrypted_value = (a * char_value + b) % 256\n",
    "            ciphertext += chr(encrypted_value)\n",
    "        else:\n",
    "            ciphertext += char\n",
    "    return ciphertext\n",
    "\n",
    "# Função para decriptar usando a cifra módulo Affine 256\n",
    "def decrypt(ciphertext, a, b):\n",
    "    plaintext = \"\"\n",
    "    a_inverse = mod_inverse(a, 256)\n",
    "    if a_inverse is None:\n",
    "        return \"Forneça uma chave valida.\"\n",
    "    \n",
    "    for char in ciphertext:\n",
    "        char_value = ord(char)\n",
    "        if 0 <= char_value <= 255:\n",
    "            decrypted_value = (a_inverse * (char_value - b)) % 256\n",
    "            plaintext += chr(decrypted_value)\n",
    "        else:\n",
    "            plaintext += char\n",
    "    return plaintext\n",
    "\n",
    "# Função para calcular o máximo divisor comum (gcd)\n",
    "def gcd(a, b):\n",
    "    while b:\n",
    "        a, b = b, a % b\n",
    "    return a\n",
    "\n",
    "# Função para calcular o inverso modular usando o Algoritmo Extendido de Euclides\n",
    "def mod_inverse(a, m):\n",
    "    if gcd(a, m) != 1:\n",
    "        return None\n",
    "    \n",
    "    def extended_euclidean(a, b):\n",
    "        if b == 0:\n",
    "            return a, 1, 0\n",
    "        \n",
    "        gcd, x, y = extended_euclidean(b, a % b)\n",
    "        return gcd, y, x - (a // b) * y\n",
    "    \n",
    "    _, inverse, _ = extended_euclidean(a, m)\n",
    "    return inverse % m\n",
    "# Dados de exemplo\n",
    "plaintext = \"AFFINE-ENCRYPT\"\n",
    "a = 15\n",
    "b = 35\n",
    "\n",
    "# Encriptação\n",
    "ciphertext = encrypt(plaintext, a, b)\n",
    "print(\"Texto cifrado:\", ciphertext)\n",
    "\n",
    "# Decriptação\n",
    "decrypted_text = decrypt(ciphertext, a, b)\n",
    "print(\"Texto decifrado:\", decrypted_text)\n"
   ]
  },
  {
   "cell_type": "code",
   "execution_count": 0,
   "metadata": {
    "collapsed": false
   },
   "outputs": [
   ],
   "source": [
   ]
  }
 ],
 "metadata": {
  "kernelspec": {
   "argv": [
    "sage-10.0",
    "--python",
    "-m",
    "sage.repl.ipython_kernel",
    "--matplotlib=inline",
    "-f",
    "{connection_file}"
   ],
   "display_name": "SageMath 10.0",
   "env": {
   },
   "language": "sagemath",
   "metadata": {
    "cocalc": {
     "description": "Open-source mathematical software system",
     "priority": 10,
     "url": "https://www.sagemath.org/"
    }
   },
   "name": "sage-10.0",
   "resource_dir": "/ext/jupyter/kernels/sage-10.0"
  },
  "language_info": {
   "codemirror_mode": {
    "name": "ipython",
    "version": 3
   },
   "file_extension": ".py",
   "mimetype": "text/x-python",
   "name": "python",
   "nbconvert_exporter": "python",
   "pygments_lexer": "ipython3",
   "version": "3.11.1"
  }
 },
 "nbformat": 4,
 "nbformat_minor": 4
}