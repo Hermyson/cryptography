{
 "cells": [
  {
   "cell_type": "markdown",
   "metadata": {
    "collapsed": false
   },
   "source": [
    "### 1. Qual foi o conjunto original de critérios usados pelo NIST para avaliar as cifras AES candidatas?\n",
    "\n",
    "R: Segurança: a cifra deve ser resistente a ataques conhecidos, incluindo ataques de força bruta, ataques de texto claro escolhido e ataques de texto cifrado escolhido.\n",
    "\n",
    "Eficiência: a cifra deve ser rápida e eficiente em termos de uso de recursos de hardware e software.\n",
    "\n",
    "Flexibilidade: a cifra deve ser capaz de lidar com diferentes tamanhos de bloco e chave, bem como diferentes modos de operação.\n",
    "\n",
    "Simplicidade: a cifra deve ser fácil de implementar e usar, com um número mínimo de componentes e operações.\n",
    "\n",
    "Transparência: a cifra deve ser publicamente documentada e disponível para revisão e análise por especialistas em criptografia.\n",
    "\n",
    "Esses critérios foram usados para avaliar as 15 cifras candidatas ao AES, que foram submetidas ao NIST em 1998. Depois de uma série de testes e análises, o NIST selecionou o algoritmo Rijndael como o novo padrão de criptografia AES em 2001. O Rijndael atendeu a todos os critérios do NIST e foi considerado seguro, eficiente e flexível o suficiente para uso em uma ampla gama de aplicações de segurança.\n"
   ]
  },
  {
   "cell_type": "markdown",
   "metadata": {
    "collapsed": false
   },
   "source": [
    "### 2. Qual foi o conjunto final de critérios usados pelo NIST para avaliar as cifras AES candidatas?\n",
    "\n",
    "R: Criptografia de chave simétrica: A cifra deveria ser uma cifra de chave simétrica, também conhecida como criptografia de chave secreta, em que a mesma chave é usada tanto para criptografar quanto para descriptografar os dados.\n",
    "\n",
    "Cifra de bloco: A cifra deveria operar no modo de cifra de bloco, em que os dados são divididos em blocos fixos e cada bloco é criptografado individualmente.\n",
    "\n",
    "Tamanhos de chave variáveis: A cifra deveria suportar tamanhos de chave criptográfica de 128 bits, 192 bits e 256 bits. Isso permitiria flexibilidade na escolha do nível de segurança desejado.\n",
    "\n",
    "Tamanho de bloco fixo: A cifra deveria ter um tamanho de bloco fixo de 128 bits. Isso garante a consistência na criptografia e permite uma interoperabilidade eficiente entre diferentes implementações.\n",
    "\n",
    "Além desses critérios, o NIST solicitou várias especificações e informações adicionais dos candidatos, incluindo uma descrição completa do algoritmo, estimativas de eficiência computacional, testes de resposta conhecidos, análise de segurança contra ataques conhecidos, vantagens e limitações do algoritmo, implementações de referência e declarações sobre patentes e uso isento de royalties.\n",
    "\n"
   ]
  },
  {
   "cell_type": "markdown",
   "metadata": {
    "collapsed": false
   },
   "source": [
    "### 3. Qual é a diferença entre Rijndael e AES?\n",
    "\n",
    "R: Rijndael e AES são frequentemente usados ​​de forma intercambiável, mas há uma diferença sutil entre eles. Rijndael é um algoritmo de criptografia de chave simétrica criado por Joan Daemen e Vincent Rijmen, enquanto AES é o padrão de criptografia avançada, que é um subconjunto de Rijndael. A principal diferença entre Rijndael e AES é o intervalo de valores suportados para o comprimento do bloco e o comprimento da chave de cifra. Rijndael pode ser especificado com tamanhos de bloco e chave em qualquer múltiplo de 32 bits, com um mínimo de 128 bits e um máximo de 256 bits, enquanto o AES tem um tamanho de bloco fixo de 128 bits e um tamanho de chave de 128, 192 ou 256 bits. Em outras palavras, Rijndael é um algoritmo mais flexível que o AES, mas o AES é um algoritmo mais padronizado e amplamente adotado.\n"
   ]
  },
  {
   "cell_type": "markdown",
   "metadata": {
    "collapsed": false
   },
   "source": [
    "### 4. Responda:\n",
    "\n",
    "#### \\(a\\) Qual é a finalidade do array Estado?\n",
    "\n",
    "R: A finalidade do array Estado no contexto do algoritmo de criptografia AES \\(Advanced Encryption Standard\\) é armazenar o estado atual da cifra durante a execução do algoritmo. Durante a etapa de Sub Bytes, os bytes do array Estado são substituídos a partir da S\\-Box, gerando valores diferentes e aparentemente aleatórios, o que ajuda a aumentar a segurança da cifra. O array Estado é atualizado em cada etapa do algoritmo de criptografia AES, incluindo as etapas de SubBytes, ShiftRows, MixColumns e AddRoundKey. O tamanho do array Estado é determinado pelo tamanho do bloco da cifra, que é fixado em 128 bits para o AES.\n",
    "\n",
    "#### \\(b\\) Como é construída a S\\-box?\n",
    "\n",
    "R: A construção da S\\-box \\(Substitution Box\\) no algoritmo de criptografia AES \\(Advanced Encryption Standard\\) é um processo importante para aumentar a segurança da cifra. A S\\-box é uma tabela de substituição que é aplicada a cada byte da matriz Estado durante a etapa de SubBytes do algoritmo. A S\\-box é construída usando uma combinação de técnicas, incluindo operações de inversão modular, operações de multiplicação em um campo finito e substituições não\\-lineares. A construção da S\\-box é baseada em propriedades matemáticas que ajudam a garantir a segurança da cifra.\n",
    "\n",
    "De acordo com um dos resultados da pesquisa1, a S\\-box do AES define uma matriz de 16x16 de valores de byte, que contém uma permutação de todos os 256 valores possíveis de 8 bits. O objetivo da S\\-box é tornar a relação entre os bytes de entrada e saída o mais complexa possível, dificultando a análise criptoanalítica da cifra. A construção da S\\-box é um processo complexo e envolve uma combinação de técnicas matemáticas e criptográficas para garantir a segurança da cifra.\n",
    "\n",
    "#### \\(c\\) Descreva rapidamente o estágio SubBytes, ShiftRows, MixColumns, AddRoundKey, e o algoritmo de expansão de chave.\n",
    "\n",
    "R: SubBytes: SubBytes é uma operação de substituição não linear que substitui cada byte do estado de entrada por outro byte usando uma tabela de substituição conhecida como S\\-box. A S\\-box é projetada para ser resistente a ataques de criptoanálise diferencial e linear.\n",
    "\n",
    "ShiftRows: ShiftRows é uma operação de transposição que desloca cada linha do estado de entrada para a esquerda. A primeira linha não é deslocada, a segunda linha é deslocada uma posição para a esquerda, a terceira linha é deslocada duas posições para a esquerda e a quarta linha é deslocada três posições para a esquerda.\n",
    "\n",
    "MixColumns: MixColumns é uma operação de mistura que combina cada coluna do estado de entrada usando uma matriz de mistura fixa. Cada byte da coluna é multiplicado por um valor fixo e somado com outros bytes da coluna para produzir um novo valor para cada byte da coluna.\n",
    "\n",
    "AddRoundKey: AddRoundKey é uma operação de adição que adiciona cada byte do estado de entrada com um byte correspondente da subchave para a rodada atual. \n",
    "\n",
    "O algoritmo de expansão de chave é usado para gerar subchaves adicionais para cada rodada do algoritmo. O algoritmo de expansão de chave usa a chave de entrada para gerar uma série de subchaves adicionais, cada uma com um tamanho igual ao tamanho do bloco de entrada. Cada subchave é gerada a partir da subchave anterior usando uma combinação de operações de substituição, rotação e XOR. O número de subchaves geradas depende do tamanho da chave de entrada e do número de rodadas do algoritmo.\n",
    "\n"
   ]
  },
  {
   "cell_type": "markdown",
   "metadata": {
    "collapsed": false
   },
   "source": [
    "### 5. Quantos bytes em Estado são afetados por ShiftRows?\n",
    "\n",
    "R: penas 12 dos 16 bytes do Estado são afetados pela transformação ShiftRows. Os 4 bytes da primeira linha permanecem inalterados, na segunda linha, os bytes são deslocados uma posição para a esquerda, na terceira linha, os bytes são deslocados duas posições para a esquerda, na quarta linha, os bytes são deslocados três posições para a esquerda.\n"
   ]
  },
  {
   "cell_type": "markdown",
   "metadata": {
    "collapsed": false
   },
   "source": [
    "### 6. Use a chave 1010 0111 0011 1011 para encriptar o texto claro \"ok\"conforme expresso em ASCII, ou seja, 0110 1111 0110 1011. Os projetistas do S\\-AES obtiveram o texto cifrado 0000 0111 0011 1000. E você?\n",
    "\n"
   ]
  },
  {
   "cell_type": "markdown",
   "metadata": {
    "collapsed": false
   },
   "source": [
    "### 7. Compare AES com DES. Para cada um dos seguintes elementos do DES, indique o elemento comparável no AES ou explique por que ele não é necessário no AES.\n",
    "\n",
    "#### \\(a\\) XOR do material da subchave com a entrada da função f.\n",
    "\n",
    "R:No AES, a subchave é adicionada diretamente ao Estado usando a operação XOR na etapa AddRoundKey, enquanto no DES, a subchave é combinada com a entrada da função f usando a operação XOR.\n",
    "\n",
    "#### \\(b\\) XOR da saída da função f com a metade esquerda do bloco.\n",
    "\n",
    "R: No AES, não há necessidade de fazer XOR da saída da função f com a metade esquerda do bloco, pois a etapa MixColumns já fornece difusão suficiente. No DES, essa operação é necessária para garantir a segurança da cifra.\n",
    "\n",
    "#### \\(c\\) função f.\n",
    "\n",
    "R: No AES, a função f é substituída por uma combinação de etapas, incluindo SubBytes, ShiftRows, MixColumns e AddRoundKey. No DES, a função f é baseada em uma rede de Feistel, que envolve uma combinação de operações, incluindo expansão de chave, substituição de bits, permutação e operações XOR.\n",
    "\n",
    "#### \\(d\\) permutação P.\n",
    "\n",
    "R: No AES, não há necessidade de uma permutação P, pois a etapa ShiftRows já fornece transposição suficiente. No DES, a permutação P é usada para misturar os bits da metade direita do bloco.\n",
    "\n",
    "#### \\(e\\) troca de metades do bloco.\n",
    "\n",
    "R: No AES, não há necessidade de trocar as metades do bloco, pois a etapa MixColumns já fornece difusão suficiente. No DES, essa operação é necessária para garantir a segurança da cifra.\n",
    "\n",
    " Em geral, o AES é considerado mais seguro e eficiente do que o DES, pois usa um tamanho de bloco maior, uma chave maior e um algoritmo mais complexo. O AES também é mais flexível em termos de tamanhos de chave e bloco, permitindo que ele seja adaptado para diferentes necessidades de segurança.\n",
    "\n",
    "\n",
    "\n"
   ]
  }
 ],
 "metadata": {
  "kernelspec": {
   "argv": [
    "sage-10.0",
    "--python",
    "-m",
    "sage.repl.ipython_kernel",
    "--matplotlib=inline",
    "-f",
    "{connection_file}"
   ],
   "display_name": "SageMath 10.0",
   "env": {
   },
   "language": "sagemath",
   "metadata": {
    "cocalc": {
     "description": "Open-source mathematical software system",
     "priority": 10,
     "url": "https://www.sagemath.org/"
    }
   },
   "name": "sage-10.0",
   "resource_dir": "/ext/jupyter/kernels/sage-10.0"
  }
 },
 "nbformat": 4,
 "nbformat_minor": 4
}